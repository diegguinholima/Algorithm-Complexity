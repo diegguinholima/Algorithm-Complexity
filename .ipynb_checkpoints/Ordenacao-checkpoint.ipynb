{
 "cells": [
  {
   "cell_type": "code",
   "execution_count": 1,
   "metadata": {},
   "outputs": [],
   "source": [
    "# import os\n",
    "from glob import glob"
   ]
  },
  {
   "cell_type": "code",
   "execution_count": 2,
   "metadata": {},
   "outputs": [],
   "source": [
    "input_files = glob(\"instancias-num/*.in\" )"
   ]
  },
  {
   "cell_type": "code",
   "execution_count": 3,
   "metadata": {},
   "outputs": [
    {
     "data": {
      "text/plain": [
       "['instancias-num\\\\num.1000.1.in',\n",
       " 'instancias-num\\\\num.1000.2.in',\n",
       " 'instancias-num\\\\num.1000.3.in',\n",
       " 'instancias-num\\\\num.1000.4.in',\n",
       " 'instancias-num\\\\num.10000.1.in',\n",
       " 'instancias-num\\\\num.10000.2.in',\n",
       " 'instancias-num\\\\num.10000.3.in',\n",
       " 'instancias-num\\\\num.10000.4.in',\n",
       " 'instancias-num\\\\num.100000.1.in',\n",
       " 'instancias-num\\\\num.100000.2.in',\n",
       " 'instancias-num\\\\num.100000.3.in',\n",
       " 'instancias-num\\\\num.100000.4.in']"
      ]
     },
     "execution_count": 3,
     "metadata": {},
     "output_type": "execute_result"
    }
   ],
   "source": [
    "input_files"
   ]
  },
  {
   "cell_type": "markdown",
   "metadata": {},
   "source": [
    "### Funções Auxiliares"
   ]
  },
  {
   "cell_type": "code",
   "execution_count": 4,
   "metadata": {},
   "outputs": [],
   "source": [
    "def get_parent(i):\n",
    "    return (i - 1)//2\n",
    " \n",
    "def get_left_child(i):\n",
    "    return 2*i + 1\n",
    " \n",
    "def get_right_child(i):\n",
    "    return 2*i + 2"
   ]
  },
  {
   "cell_type": "markdown",
   "metadata": {},
   "source": [
    "## HeapSort"
   ]
  },
  {
   "cell_type": "markdown",
   "metadata": {},
   "source": [
    "###### implementação do algoritmo do heapsort"
   ]
  },
  {
   "cell_type": "code",
   "execution_count": 5,
   "metadata": {},
   "outputs": [],
   "source": [
    "def heapsort(list_number):\n",
    "    build_max_heap(list_number)\n",
    "#   repete a operação de n-1 a 0, decrementando o em 1 o tamanho da heap\n",
    "    for i in range(len(list_number) - 1, 0, -1):\n",
    "        list_number[0], list_number[i] = list_number[i], list_number[0]\n",
    "        max_heapify(list_number, index=0, size=i)\n",
    "#     print(list_number)\n",
    "    return list_number\n",
    "\n",
    "# Pega uma lista como argumento e a reorganiza para formar um heap máximo. \n",
    "def build_max_heap(list_number):\n",
    "    length = len(list_number)\n",
    "    start = get_parent(length - 1)\n",
    "    while start >= 0:\n",
    "        max_heapify(list_number, index=start, size=length)\n",
    "        start = start - 1\n",
    "        \n",
    "# verifica se algum dos nos filhos é maior que o nó pai, e assim adequa a heap     \n",
    "def max_heapify(list_number, index, size):\n",
    "    left_child = get_left_child(index)\n",
    "    right_child = get_right_child(index)\n",
    "    if (left_child < size and list_number[left_child] > list_number[index]):\n",
    "        largest = left_child\n",
    "    else:\n",
    "        largest = index\n",
    "    if (right_child < size and list_number[right_child] > list_number[largest]):\n",
    "        largest = right_child\n",
    "    if (largest != index):\n",
    "        list_number[largest], list_number[index] = list_number[index], list_number[largest]\n",
    "        max_heapify(list_number, largest, size)"
   ]
  },
  {
   "cell_type": "markdown",
   "metadata": {},
   "source": [
    "### Execução"
   ]
  },
  {
   "cell_type": "markdown",
   "metadata": {},
   "source": [
    "##### Teste do algoritmo do heapsort.\n",
    "##### Verificação se as novas listas estão ordenadas\n",
    "##### Geração de novos arquivos de saida"
   ]
  },
  {
   "cell_type": "code",
   "execution_count": 6,
   "metadata": {},
   "outputs": [],
   "source": [
    "def verify(sorted_list):\n",
    "    for number in range(1, len(sorted_list)):\n",
    "        if(sorted_list[number-1] > sorted_list[number]):\n",
    "            return False\n",
    "        else:\n",
    "            return True"
   ]
  },
  {
   "cell_type": "code",
   "execution_count": 9,
   "metadata": {},
   "outputs": [
    {
     "name": "stdout",
     "output_type": "stream",
     "text": [
      "file: instancias-num\\num.1000.1.in - Ordenados com Sucesso\n",
      "file: instancias-num\\num.1000.2.in - Ordenados com Sucesso\n",
      "file: instancias-num\\num.1000.3.in - Ordenados com Sucesso\n",
      "file: instancias-num\\num.1000.4.in - Ordenados com Sucesso\n",
      "file: instancias-num\\num.10000.1.in - Ordenados com Sucesso\n",
      "file: instancias-num\\num.10000.2.in - Ordenados com Sucesso\n",
      "file: instancias-num\\num.10000.3.in - Ordenados com Sucesso\n",
      "file: instancias-num\\num.10000.4.in - Ordenados com Sucesso\n",
      "file: instancias-num\\num.100000.1.in - Ordenados com Sucesso\n",
      "file: instancias-num\\num.100000.2.in - Ordenados com Sucesso\n",
      "file: instancias-num\\num.100000.3.in - Ordenados com Sucesso\n",
      "file: instancias-num\\num.100000.4.in - Ordenados com Sucesso\n"
     ]
    }
   ],
   "source": [
    "list_original = []\n",
    "list_sorted = []\n",
    "for file in input_files:\n",
    "    with open(file, 'r') as f:\n",
    "        for line in f:\n",
    "            line = int(line.strip())\n",
    "            list_original.append(line)\n",
    "        list_original = list_original[1:]\n",
    "        list_sorted = heapsort(list_original.copy())\n",
    "    if verify(list_sorted): \n",
    "        file_sort = open(file + \"_sort\", 'w')\n",
    "        file_sort.write(str(list_sorted))\n",
    "        print(\"file: {} - Ordenados com Sucesso\".format(file))\n",
    "    else: \n",
    "        print(\"file: {} - Falha na Ordenação\".format(file))\n",
    "    list_original.clear()"
   ]
  },
  {
   "cell_type": "code",
   "execution_count": null,
   "metadata": {},
   "outputs": [],
   "source": []
  }
 ],
 "metadata": {
  "kernelspec": {
   "display_name": "Python 3",
   "language": "python",
   "name": "python3"
  },
  "language_info": {
   "codemirror_mode": {
    "name": "ipython",
    "version": 3
   },
   "file_extension": ".py",
   "mimetype": "text/x-python",
   "name": "python",
   "nbconvert_exporter": "python",
   "pygments_lexer": "ipython3",
   "version": "3.6.6"
  }
 },
 "nbformat": 4,
 "nbformat_minor": 2
}
